{
 "cells": [
  {
   "cell_type": "code",
   "execution_count": null,
   "metadata": {},
   "outputs": [],
   "source": [
    "%load_ext autoreload\n",
    "%autoreload 2\n",
    "\n",
    "from targeted_llm_manipulation.retroactive_evaluator.retroactive_evaluator import BaseRetroactiveEvaluator\n",
    "import matplotlib.pyplot as plt"
   ]
  },
  {
   "cell_type": "code",
   "execution_count": null,
   "metadata": {},
   "outputs": [],
   "source": [
    "iteration_num = 0\n",
    "run_name = \"weak-therapist1t-env-09_21_084743\""
   ]
  },
  {
   "cell_type": "code",
   "execution_count": null,
   "metadata": {},
   "outputs": [],
   "source": [
    "retro_eval = BaseRetroactiveEvaluator.from_run_name(run_name=run_name, metrics=[], env_config_name=None, max_trajs_per_env=None)\n",
    "\n",
    "traj_dfs = {}\n",
    "for iteration_num in range(20):\n",
    "    print(f\"Iteration {iteration_num}\")\n",
    "    traj_df = retro_eval.get_selected_traj_df(iteration_num)\n",
    "    traj_dfs[iteration_num] = traj_df"
   ]
  },
  {
   "cell_type": "code",
   "execution_count": null,
   "metadata": {},
   "outputs": [],
   "source": [
    "def plot_traj_df(traj_df):\n",
    "    # Create the scatter plot\n",
    "    plt.figure(figsize=(10, 8))\n",
    "\n",
    "    # Plot not selected trajectories\n",
    "    not_selected = traj_df[~(traj_df['positive_selected'] | traj_df['negative_selected'])]\n",
    "    plt.scatter(not_selected['traj_rew'], not_selected['traj_infl'], \n",
    "                color='gray', alpha=0.5, label='Not Selected')\n",
    "\n",
    "    # Plot positive selected trajectories\n",
    "    positive = traj_df[traj_df['positive_selected']]\n",
    "    plt.scatter(positive['traj_rew'], positive['traj_infl'], \n",
    "                color='green', alpha=0.7, label='Positive Selected')\n",
    "\n",
    "    # Plot negative selected trajectories\n",
    "    negative = traj_df[traj_df['negative_selected']]\n",
    "    plt.scatter(negative['traj_rew'], negative['traj_infl'], \n",
    "                color='red', alpha=0.7, label='Negative Selected')\n",
    "\n",
    "    # Set labels and title\n",
    "    plt.xlabel('Trajectory Reward', fontsize=12)\n",
    "    plt.ylabel('Trajectory Influence', fontsize=12)\n",
    "    plt.title('Trajectory Reward vs Influence', fontsize=14)\n",
    "\n",
    "    # Add a legend\n",
    "    plt.legend(fontsize=10)\n",
    "\n",
    "    # Show the plot\n",
    "    plt.tight_layout()\n",
    "    plt.show()"
   ]
  },
  {
   "cell_type": "code",
   "execution_count": null,
   "metadata": {},
   "outputs": [],
   "source": [
    "for iteration_num in range(20):\n",
    "    plot_traj_df(traj_dfs[iteration_num])\n"
   ]
  },
  {
   "cell_type": "code",
   "execution_count": null,
   "metadata": {},
   "outputs": [],
   "source": []
  }
 ],
 "metadata": {
  "kernelspec": {
   "display_name": "influence",
   "language": "python",
   "name": "python3"
  },
  "language_info": {
   "codemirror_mode": {
    "name": "ipython",
    "version": 3
   },
   "file_extension": ".py",
   "mimetype": "text/x-python",
   "name": "python",
   "nbconvert_exporter": "python",
   "pygments_lexer": "ipython3",
   "version": "3.11.9"
  }
 },
 "nbformat": 4,
 "nbformat_minor": 2
}
